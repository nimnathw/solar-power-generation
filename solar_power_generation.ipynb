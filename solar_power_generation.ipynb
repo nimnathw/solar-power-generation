{
  "nbformat": 4,
  "nbformat_minor": 0,
  "metadata": {
    "colab": {
      "provenance": [],
      "mount_file_id": "17X3mqRJJQAcmIqDjybqn4KNnqWsGlGIm",
      "authorship_tag": "ABX9TyML5O5msU0/9PD3+SZxCZgX",
      "include_colab_link": true
    },
    "kernelspec": {
      "name": "python3",
      "display_name": "Python 3"
    },
    "language_info": {
      "name": "python"
    },
    "accelerator": "GPU",
    "gpuClass": "standard"
  },
  "cells": [
    {
      "cell_type": "markdown",
      "metadata": {
        "id": "view-in-github",
        "colab_type": "text"
      },
      "source": [
        "<a href=\"https://colab.research.google.com/github/nimnathw/solar-power-generation/blob/main/solar_power_generation.ipynb\" target=\"_parent\"><img src=\"https://colab.research.google.com/assets/colab-badge.svg\" alt=\"Open In Colab\"/></a>"
      ]
    },
    {
      "cell_type": "code",
      "execution_count": 7,
      "metadata": {
        "colab": {
          "base_uri": "https://localhost:8080/",
          "height": 991
        },
        "id": "A1U4DO0Kmh6A",
        "outputId": "a7863e91-0ee1-41b5-f5e8-1f13e67205da"
      },
      "outputs": [
        {
          "output_type": "stream",
          "name": "stdout",
          "text": [
            "          DATE_TIME  PLANT_ID       SOURCE_KEY  DC_POWER  AC_POWER  \\\n",
            "0  15-05-2020 00:00   4135001  1BY6WEcLGh8j5v7       0.0       0.0   \n",
            "1  15-05-2020 00:00   4135001  1IF53ai7Xc0U56Y       0.0       0.0   \n",
            "2  15-05-2020 00:00   4135001  3PZuoBAID5Wc2HD       0.0       0.0   \n",
            "3  15-05-2020 00:00   4135001  7JYdWkrLSPkdwr4       0.0       0.0   \n",
            "4  15-05-2020 00:00   4135001  McdE0feGgRqW7Ca       0.0       0.0   \n",
            "\n",
            "   DAILY_YIELD  TOTAL_YIELD  \n",
            "0          0.0    6259559.0  \n",
            "1          0.0    6183645.0  \n",
            "2          0.0    6987759.0  \n",
            "3          0.0    7602960.0  \n",
            "4          0.0    7158964.0  \n",
            "Index(['DATE_TIME', 'PLANT_ID', 'SOURCE_KEY', 'DC_POWER', 'AC_POWER',\n",
            "       'DAILY_YIELD', 'TOTAL_YIELD'],\n",
            "      dtype='object')\n",
            "<class 'pandas.core.frame.DataFrame'>\n",
            "RangeIndex: 68778 entries, 0 to 68777\n",
            "Data columns (total 7 columns):\n",
            " #   Column       Non-Null Count  Dtype  \n",
            "---  ------       --------------  -----  \n",
            " 0   DATE_TIME    68778 non-null  object \n",
            " 1   PLANT_ID     68778 non-null  int64  \n",
            " 2   SOURCE_KEY   68778 non-null  object \n",
            " 3   DC_POWER     68778 non-null  float64\n",
            " 4   AC_POWER     68778 non-null  float64\n",
            " 5   DAILY_YIELD  68778 non-null  float64\n",
            " 6   TOTAL_YIELD  68778 non-null  float64\n",
            "dtypes: float64(4), int64(1), object(2)\n",
            "memory usage: 3.7+ MB\n",
            "None\n",
            "Missing values: \n",
            " DATE_TIME      0\n",
            "PLANT_ID       0\n",
            "SOURCE_KEY     0\n",
            "DC_POWER       0\n",
            "AC_POWER       0\n",
            "DAILY_YIELD    0\n",
            "TOTAL_YIELD    0\n",
            "dtype: int64\n"
          ]
        },
        {
          "output_type": "execute_result",
          "data": {
            "text/plain": [
              "[<matplotlib.lines.Line2D at 0x7f3ba40987f0>]"
            ]
          },
          "metadata": {},
          "execution_count": 7
        },
        {
          "output_type": "display_data",
          "data": {
            "text/plain": [
              "<Figure size 432x288 with 1 Axes>"
            ],
            "image/png": "[encoded data removed]"
          },
          "metadata": {
            "needs_background": "light"
          }
        }
      ],
      "source": [
        "# Import packages\n",
        "import numpy as np\n",
        "import pandas as pd\n",
        "from matplotlib import pyplot as plt\n",
        "import seaborn as sns\n",
        "\n",
        "plant_1_gen = \"/content/drive/MyDrive/Colab Notebooks/Plant_1_Generation_Data.csv\"\n",
        "plant_1_weather = \"/content/drive/MyDrive/Colab Notebooks/Plant_1_Weather_Sensor_Data.csv\"\n",
        "plant_2_gen = \"/content/drive/MyDrive/Colab Notebooks/Plant_2_Generation_Data.csv\"\n",
        "plant_2_weather = \"/content/drive/MyDrive/Colab Notebooks/Plant_2_Weather_Sensor_Data.csv\"\n",
        "\n",
        "gen_1 = pd.read_csv(plant_1_gen)\n",
        "weather_1 = pd.read_csv(plant_1_weather)\n",
        "gen_2 = pd.read_csv(plant_2_gen)\n",
        "weather_2 = pd.read_csv(plant_2_weather)\n",
        "\n",
        "# Check gen_1 dataframe overall data\n",
        "print(gen_1.head(5))\n",
        "print(gen_1.columns)\n",
        "print(gen_1.info())\n",
        "print(\"Missing values: \\n\", gen_1.isnull().sum(axis=0))\n",
        "plt.plot(gen_1.DAILY_YIELD)"
      ]
    },
    {
      "cell_type": "code",
      "source": [
        "# Check weather_1 dataframe overall data\n",
        "print(weather_1.head(5))\n",
        "print(weather_1.columns)\n",
        "print(weather_1.info())\n",
        "print(\"Missing values: \\n\", weather_1.isnull().sum(axis=0))"
      ],
      "metadata": {
        "colab": {
          "base_uri": "https://localhost:8080/"
        },
        "id": "R9zfwISgpsDa",
        "outputId": "52d10448-2562-4493-cd63-3c254af8ee85"
      },
      "execution_count": 10,
      "outputs": [
        {
          "output_type": "stream",
          "name": "stdout",
          "text": [
            "             DATE_TIME  PLANT_ID       SOURCE_KEY  AMBIENT_TEMPERATURE  \\\n",
            "0  2020-05-15 00:00:00   4135001  HmiyD2TTLFNqkNe            25.184316   \n",
            "1  2020-05-15 00:15:00   4135001  HmiyD2TTLFNqkNe            25.084589   \n",
            "2  2020-05-15 00:30:00   4135001  HmiyD2TTLFNqkNe            24.935753   \n",
            "3  2020-05-15 00:45:00   4135001  HmiyD2TTLFNqkNe            24.846130   \n",
            "4  2020-05-15 01:00:00   4135001  HmiyD2TTLFNqkNe            24.621525   \n",
            "\n",
            "   MODULE_TEMPERATURE  IRRADIATION  \n",
            "0           22.857507          0.0  \n",
            "1           22.761668          0.0  \n",
            "2           22.592306          0.0  \n",
            "3           22.360852          0.0  \n",
            "4           22.165423          0.0  \n",
            "Index(['DATE_TIME', 'PLANT_ID', 'SOURCE_KEY', 'AMBIENT_TEMPERATURE',\n",
            "       'MODULE_TEMPERATURE', 'IRRADIATION'],\n",
            "      dtype='object')\n",
            "<class 'pandas.core.frame.DataFrame'>\n",
            "RangeIndex: 3182 entries, 0 to 3181\n",
            "Data columns (total 6 columns):\n",
            " #   Column               Non-Null Count  Dtype  \n",
            "---  ------               --------------  -----  \n",
            " 0   DATE_TIME            3182 non-null   object \n",
            " 1   PLANT_ID             3182 non-null   int64  \n",
            " 2   SOURCE_KEY           3182 non-null   object \n",
            " 3   AMBIENT_TEMPERATURE  3182 non-null   float64\n",
            " 4   MODULE_TEMPERATURE   3182 non-null   float64\n",
            " 5   IRRADIATION          3182 non-null   float64\n",
            "dtypes: float64(3), int64(1), object(2)\n",
            "memory usage: 149.3+ KB\n",
            "None\n",
            "Missing values: \n",
            " DATE_TIME              0\n",
            "PLANT_ID               0\n",
            "SOURCE_KEY             0\n",
            "AMBIENT_TEMPERATURE    0\n",
            "MODULE_TEMPERATURE     0\n",
            "IRRADIATION            0\n",
            "dtype: int64\n"
          ]
        }
      ]
    },
    {
      "cell_type": "code",
      "source": [
        "# Check gen_2 dataframe overall data\n",
        "print(gen_2.head(5))\n",
        "print(gen_2.columns)\n",
        "print(gen_2.info())\n",
        "print(\"Missing values: \\n\", gen_2.isnull().sum(axis=0))\n",
        "plt.plot(gen_2.DAILY_YIELD)"
      ],
      "metadata": {
        "colab": {
          "base_uri": "https://localhost:8080/",
          "height": 991
        },
        "id": "lIqYUYHHpiMJ",
        "outputId": "a95d1776-31e4-4946-bdd5-dd99c6532bf2"
      },
      "execution_count": 8,
      "outputs": [
        {
          "output_type": "stream",
          "name": "stdout",
          "text": [
            "             DATE_TIME  PLANT_ID       SOURCE_KEY  DC_POWER  AC_POWER  \\\n",
            "0  2020-05-15 00:00:00   4136001  4UPUqMRk7TRMgml       0.0       0.0   \n",
            "1  2020-05-15 00:00:00   4136001  81aHJ1q11NBPMrL       0.0       0.0   \n",
            "2  2020-05-15 00:00:00   4136001  9kRcWv60rDACzjR       0.0       0.0   \n",
            "3  2020-05-15 00:00:00   4136001  Et9kgGMDl729KT4       0.0       0.0   \n",
            "4  2020-05-15 00:00:00   4136001  IQ2d7wF4YD8zU1Q       0.0       0.0   \n",
            "\n",
            "   DAILY_YIELD   TOTAL_YIELD  \n",
            "0  9425.000000  2.429011e+06  \n",
            "1     0.000000  1.215279e+09  \n",
            "2  3075.333333  2.247720e+09  \n",
            "3   269.933333  1.704250e+06  \n",
            "4  3177.000000  1.994153e+07  \n",
            "Index(['DATE_TIME', 'PLANT_ID', 'SOURCE_KEY', 'DC_POWER', 'AC_POWER',\n",
            "       'DAILY_YIELD', 'TOTAL_YIELD'],\n",
            "      dtype='object')\n",
            "<class 'pandas.core.frame.DataFrame'>\n",
            "RangeIndex: 67698 entries, 0 to 67697\n",
            "Data columns (total 7 columns):\n",
            " #   Column       Non-Null Count  Dtype  \n",
            "---  ------       --------------  -----  \n",
            " 0   DATE_TIME    67698 non-null  object \n",
            " 1   PLANT_ID     67698 non-null  int64  \n",
            " 2   SOURCE_KEY   67698 non-null  object \n",
            " 3   DC_POWER     67698 non-null  float64\n",
            " 4   AC_POWER     67698 non-null  float64\n",
            " 5   DAILY_YIELD  67698 non-null  float64\n",
            " 6   TOTAL_YIELD  67698 non-null  float64\n",
            "dtypes: float64(4), int64(1), object(2)\n",
            "memory usage: 3.6+ MB\n",
            "None\n",
            "Missing values: \n",
            " DATE_TIME      0\n",
            "PLANT_ID       0\n",
            "SOURCE_KEY     0\n",
            "DC_POWER       0\n",
            "AC_POWER       0\n",
            "DAILY_YIELD    0\n",
            "TOTAL_YIELD    0\n",
            "dtype: int64\n"
          ]
        },
        {
          "output_type": "execute_result",
          "data": {
            "text/plain": [
              "[<matplotlib.lines.Line2D at 0x7f3ba4440850>]"
            ]
          },
          "metadata": {},
          "execution_count": 8
        },
        {
          "output_type": "display_data",
          "data": {
            "text/plain": [
              "<Figure size 432x288 with 1 Axes>"
            ],
            "image/png": "[encoded data removed]"
          },
          "metadata": {
            "needs_background": "light"
          }
        }
      ]
    },
    {
      "cell_type": "code",
      "source": [
        "# Check weather_2 dataframe overall data\n",
        "print(weather_2.head(5))\n",
        "print(weather_2.columns)\n",
        "print(weather_2.info())\n",
        "print(\"Missing values: \\n\", weather_1.isnull().sum(axis=0))"
      ],
      "metadata": {
        "colab": {
          "base_uri": "https://localhost:8080/"
        },
        "id": "oDP88fP4odPA",
        "outputId": "100adf44-762b-4534-da3f-321b406ab16a"
      },
      "execution_count": 11,
      "outputs": [
        {
          "output_type": "stream",
          "name": "stdout",
          "text": [
            "             DATE_TIME  PLANT_ID       SOURCE_KEY  AMBIENT_TEMPERATURE  \\\n",
            "0  2020-05-15 00:00:00   4136001  iq8k7ZNt4Mwm3w0            27.004764   \n",
            "1  2020-05-15 00:15:00   4136001  iq8k7ZNt4Mwm3w0            26.880811   \n",
            "2  2020-05-15 00:30:00   4136001  iq8k7ZNt4Mwm3w0            26.682055   \n",
            "3  2020-05-15 00:45:00   4136001  iq8k7ZNt4Mwm3w0            26.500589   \n",
            "4  2020-05-15 01:00:00   4136001  iq8k7ZNt4Mwm3w0            26.596148   \n",
            "\n",
            "   MODULE_TEMPERATURE  IRRADIATION  \n",
            "0           25.060789          0.0  \n",
            "1           24.421869          0.0  \n",
            "2           24.427290          0.0  \n",
            "3           24.420678          0.0  \n",
            "4           25.088210          0.0  \n",
            "Index(['DATE_TIME', 'PLANT_ID', 'SOURCE_KEY', 'AMBIENT_TEMPERATURE',\n",
            "       'MODULE_TEMPERATURE', 'IRRADIATION'],\n",
            "      dtype='object')\n",
            "<class 'pandas.core.frame.DataFrame'>\n",
            "RangeIndex: 3259 entries, 0 to 3258\n",
            "Data columns (total 6 columns):\n",
            " #   Column               Non-Null Count  Dtype  \n",
            "---  ------               --------------  -----  \n",
            " 0   DATE_TIME            3259 non-null   object \n",
            " 1   PLANT_ID             3259 non-null   int64  \n",
            " 2   SOURCE_KEY           3259 non-null   object \n",
            " 3   AMBIENT_TEMPERATURE  3259 non-null   float64\n",
            " 4   MODULE_TEMPERATURE   3259 non-null   float64\n",
            " 5   IRRADIATION          3259 non-null   float64\n",
            "dtypes: float64(3), int64(1), object(2)\n",
            "memory usage: 152.9+ KB\n",
            "None\n",
            "Missing values: \n",
            " DATE_TIME              0\n",
            "PLANT_ID               0\n",
            "SOURCE_KEY             0\n",
            "AMBIENT_TEMPERATURE    0\n",
            "MODULE_TEMPERATURE     0\n",
            "IRRADIATION            0\n",
            "dtype: int64\n"
          ]
        }
      ]
    }
  ]
}